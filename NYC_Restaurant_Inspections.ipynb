{
  "nbformat": 4,
  "nbformat_minor": 0,
  "metadata": {
    "colab": {
      "name": "NYC Restaurant Inspections",
      "version": "0.3.2",
      "provenance": [],
      "collapsed_sections": [],
      "include_colab_link": true
    },
    "kernelspec": {
      "name": "python3",
      "display_name": "Python 3"
    }
  },
  "cells": [
    {
      "cell_type": "markdown",
      "metadata": {
        "id": "view-in-github",
        "colab_type": "text"
      },
      "source": [
        "<a href=\"https://colab.research.google.com/github/aunz/Insight-Data-Science-Challenge/blob/master/NYC_Restaurant_Inspections.ipynb\" target=\"_parent\"><img src=\"https://colab.research.google.com/assets/colab-badge.svg\" alt=\"Open In Colab\"/></a>"
      ]
    },
    {
      "metadata": {
        "id": "ULsXJnB8w4IE",
        "colab_type": "text"
      },
      "cell_type": "markdown",
      "source": [
        "# NYC Restaurant Inspection"
      ]
    },
    {
      "metadata": {
        "id": "GMuxzFzbwlXv",
        "colab_type": "code",
        "outputId": "efe597aa-1744-4dae-d836-2adeb0c3ec54",
        "colab": {
          "base_uri": "https://localhost:8080/",
          "height": 72
        }
      },
      "cell_type": "code",
      "source": [
        "!curl -o data.zip https://raw.githubusercontent.com/aunz/Insight-Data-Science-Challenge/master/data_w6_NYC_restaurant_inspections.zip\n",
        "!unzip -qq data.zip"
      ],
      "execution_count": 2,
      "outputs": [
        {
          "output_type": "stream",
          "text": [
            "  % Total    % Received % Xferd  Average Speed   Time    Time     Time  Current\n",
            "                                 Dload  Upload   Total   Spent    Left  Speed\n",
            "100 22.2M  100 22.2M    0     0  23.9M      0 --:--:-- --:--:-- --:--:-- 23.8M\n"
          ],
          "name": "stdout"
        }
      ]
    },
    {
      "metadata": {
        "id": "4vMorBP2zAFt",
        "colab_type": "code",
        "colab": {}
      },
      "cell_type": "code",
      "source": [
        "import numpy as np\n",
        "import pandas as pd\n",
        "\n",
        "import matplotlib.pyplot as plt"
      ],
      "execution_count": 0,
      "outputs": []
    },
    {
      "metadata": {
        "id": "2vmG9XO8zqzA",
        "colab_type": "code",
        "outputId": "9a9bfd13-30cb-4a3d-d022-47b3e2c62ec9",
        "colab": {
          "base_uri": "https://localhost:8080/",
          "height": 1486
        }
      },
      "cell_type": "code",
      "source": [
        "data = pd.concat([pd.read_csv(f'DOHMH_New_York_City_Restaurant_Inspection_Results_{i}_of_6.txt') for i in range(1, 7)], 0)\n",
        "data = data.iloc[:,1:]\n",
        "print(data.shape)\n",
        "print(data.info())\n",
        "print(data.nunique())\n",
        "data.head()"
      ],
      "execution_count": 4,
      "outputs": [
        {
          "output_type": "stream",
          "text": [
            "(399918, 18)\n",
            "<class 'pandas.core.frame.DataFrame'>\n",
            "Int64Index: 399918 entries, 0 to 66652\n",
            "Data columns (total 18 columns):\n",
            "CAMIS                    399918 non-null int64\n",
            "DBA                      399559 non-null object\n",
            "BORO                     399918 non-null object\n",
            "BUILDING                 399809 non-null object\n",
            "STREET                   399909 non-null object\n",
            "ZIPCODE                  399909 non-null float64\n",
            "PHONE                    399913 non-null object\n",
            "CUISINE DESCRIPTION      399918 non-null object\n",
            "INSPECTION DATE          399918 non-null object\n",
            "ACTION                   398783 non-null object\n",
            "VIOLATION CODE           393414 non-null object\n",
            "VIOLATION DESCRIPTION    392939 non-null object\n",
            "CRITICAL FLAG            399918 non-null object\n",
            "SCORE                    376704 non-null float64\n",
            "GRADE                    195413 non-null object\n",
            "GRADE DATE               192820 non-null object\n",
            "RECORD DATE              399918 non-null object\n",
            "INSPECTION TYPE          398783 non-null object\n",
            "dtypes: float64(2), int64(1), object(15)\n",
            "memory usage: 58.0+ MB\n",
            "None\n",
            "CAMIS                    26505\n",
            "DBA                      20936\n",
            "BORO                         6\n",
            "BUILDING                  7256\n",
            "STREET                    3328\n",
            "ZIPCODE                    233\n",
            "PHONE                    25165\n",
            "CUISINE DESCRIPTION         84\n",
            "INSPECTION DATE           1414\n",
            "ACTION                       5\n",
            "VIOLATION CODE              97\n",
            "VIOLATION DESCRIPTION       93\n",
            "CRITICAL FLAG                3\n",
            "SCORE                      120\n",
            "GRADE                        6\n",
            "GRADE DATE                1325\n",
            "RECORD DATE                  1\n",
            "INSPECTION TYPE             34\n",
            "dtype: int64\n"
          ],
          "name": "stdout"
        },
        {
          "output_type": "execute_result",
          "data": {
            "text/html": [
              "<div>\n",
              "<style scoped>\n",
              "    .dataframe tbody tr th:only-of-type {\n",
              "        vertical-align: middle;\n",
              "    }\n",
              "\n",
              "    .dataframe tbody tr th {\n",
              "        vertical-align: top;\n",
              "    }\n",
              "\n",
              "    .dataframe thead th {\n",
              "        text-align: right;\n",
              "    }\n",
              "</style>\n",
              "<table border=\"1\" class=\"dataframe\">\n",
              "  <thead>\n",
              "    <tr style=\"text-align: right;\">\n",
              "      <th></th>\n",
              "      <th>CAMIS</th>\n",
              "      <th>DBA</th>\n",
              "      <th>BORO</th>\n",
              "      <th>BUILDING</th>\n",
              "      <th>STREET</th>\n",
              "      <th>ZIPCODE</th>\n",
              "      <th>PHONE</th>\n",
              "      <th>CUISINE DESCRIPTION</th>\n",
              "      <th>INSPECTION DATE</th>\n",
              "      <th>ACTION</th>\n",
              "      <th>VIOLATION CODE</th>\n",
              "      <th>VIOLATION DESCRIPTION</th>\n",
              "      <th>CRITICAL FLAG</th>\n",
              "      <th>SCORE</th>\n",
              "      <th>GRADE</th>\n",
              "      <th>GRADE DATE</th>\n",
              "      <th>RECORD DATE</th>\n",
              "      <th>INSPECTION TYPE</th>\n",
              "    </tr>\n",
              "  </thead>\n",
              "  <tbody>\n",
              "    <tr>\n",
              "      <th>0</th>\n",
              "      <td>40511702</td>\n",
              "      <td>NOTARO RESTAURANT</td>\n",
              "      <td>MANHATTAN</td>\n",
              "      <td>635</td>\n",
              "      <td>SECOND AVENUE</td>\n",
              "      <td>10016.0</td>\n",
              "      <td>2126863400</td>\n",
              "      <td>Italian</td>\n",
              "      <td>06/15/2015</td>\n",
              "      <td>Violations were cited in the following area(s).</td>\n",
              "      <td>02B</td>\n",
              "      <td>Hot food item not held at or above 140Âº F.</td>\n",
              "      <td>Critical</td>\n",
              "      <td>30.0</td>\n",
              "      <td>NaN</td>\n",
              "      <td>NaN</td>\n",
              "      <td>08/28/2017</td>\n",
              "      <td>Cycle Inspection / Initial Inspection</td>\n",
              "    </tr>\n",
              "    <tr>\n",
              "      <th>1</th>\n",
              "      <td>40511702</td>\n",
              "      <td>NOTARO RESTAURANT</td>\n",
              "      <td>MANHATTAN</td>\n",
              "      <td>635</td>\n",
              "      <td>SECOND AVENUE</td>\n",
              "      <td>10016.0</td>\n",
              "      <td>2126863400</td>\n",
              "      <td>Italian</td>\n",
              "      <td>11/25/2014</td>\n",
              "      <td>Violations were cited in the following area(s).</td>\n",
              "      <td>20F</td>\n",
              "      <td>Current letter grade card not posted.</td>\n",
              "      <td>Not Critical</td>\n",
              "      <td>NaN</td>\n",
              "      <td>NaN</td>\n",
              "      <td>NaN</td>\n",
              "      <td>08/28/2017</td>\n",
              "      <td>Administrative Miscellaneous / Initial Inspection</td>\n",
              "    </tr>\n",
              "    <tr>\n",
              "      <th>2</th>\n",
              "      <td>50046354</td>\n",
              "      <td>VITE BAR</td>\n",
              "      <td>QUEENS</td>\n",
              "      <td>2507</td>\n",
              "      <td>BROADWAY</td>\n",
              "      <td>11106.0</td>\n",
              "      <td>3478134702</td>\n",
              "      <td>Italian</td>\n",
              "      <td>10/03/2016</td>\n",
              "      <td>Violations were cited in the following area(s).</td>\n",
              "      <td>10F</td>\n",
              "      <td>Non-food contact surface improperly constructe...</td>\n",
              "      <td>Not Critical</td>\n",
              "      <td>2.0</td>\n",
              "      <td>NaN</td>\n",
              "      <td>NaN</td>\n",
              "      <td>08/28/2017</td>\n",
              "      <td>Pre-permit (Operational) / Initial Inspection</td>\n",
              "    </tr>\n",
              "    <tr>\n",
              "      <th>3</th>\n",
              "      <td>50061389</td>\n",
              "      <td>TACK'S CHINESE TAKE OUT</td>\n",
              "      <td>STATEN ISLAND</td>\n",
              "      <td>11C</td>\n",
              "      <td>HOLDEN BLVD</td>\n",
              "      <td>10314.0</td>\n",
              "      <td>7189839854</td>\n",
              "      <td>Chinese</td>\n",
              "      <td>05/17/2017</td>\n",
              "      <td>Violations were cited in the following area(s).</td>\n",
              "      <td>02G</td>\n",
              "      <td>Cold food item held above 41Âº F (smoked fish ...</td>\n",
              "      <td>Critical</td>\n",
              "      <td>46.0</td>\n",
              "      <td>NaN</td>\n",
              "      <td>NaN</td>\n",
              "      <td>08/28/2017</td>\n",
              "      <td>Pre-permit (Operational) / Initial Inspection</td>\n",
              "    </tr>\n",
              "    <tr>\n",
              "      <th>4</th>\n",
              "      <td>41516263</td>\n",
              "      <td>NO QUARTER</td>\n",
              "      <td>BROOKLYN</td>\n",
              "      <td>8015</td>\n",
              "      <td>5 AVENUE</td>\n",
              "      <td>11209.0</td>\n",
              "      <td>7187019180</td>\n",
              "      <td>American</td>\n",
              "      <td>03/30/2017</td>\n",
              "      <td>Violations were cited in the following area(s).</td>\n",
              "      <td>04M</td>\n",
              "      <td>Live roaches present in facility's food and/or...</td>\n",
              "      <td>Critical</td>\n",
              "      <td>18.0</td>\n",
              "      <td>NaN</td>\n",
              "      <td>NaN</td>\n",
              "      <td>08/28/2017</td>\n",
              "      <td>Cycle Inspection / Initial Inspection</td>\n",
              "    </tr>\n",
              "  </tbody>\n",
              "</table>\n",
              "</div>"
            ],
            "text/plain": [
              "      CAMIS                      DBA           BORO BUILDING         STREET  \\\n",
              "0  40511702        NOTARO RESTAURANT      MANHATTAN      635  SECOND AVENUE   \n",
              "1  40511702        NOTARO RESTAURANT      MANHATTAN      635  SECOND AVENUE   \n",
              "2  50046354                 VITE BAR         QUEENS     2507       BROADWAY   \n",
              "3  50061389  TACK'S CHINESE TAKE OUT  STATEN ISLAND      11C    HOLDEN BLVD   \n",
              "4  41516263               NO QUARTER       BROOKLYN     8015       5 AVENUE   \n",
              "\n",
              "   ZIPCODE       PHONE CUISINE DESCRIPTION INSPECTION DATE  \\\n",
              "0  10016.0  2126863400             Italian      06/15/2015   \n",
              "1  10016.0  2126863400             Italian      11/25/2014   \n",
              "2  11106.0  3478134702             Italian      10/03/2016   \n",
              "3  10314.0  7189839854             Chinese      05/17/2017   \n",
              "4  11209.0  7187019180            American      03/30/2017   \n",
              "\n",
              "                                            ACTION VIOLATION CODE  \\\n",
              "0  Violations were cited in the following area(s).            02B   \n",
              "1  Violations were cited in the following area(s).            20F   \n",
              "2  Violations were cited in the following area(s).            10F   \n",
              "3  Violations were cited in the following area(s).            02G   \n",
              "4  Violations were cited in the following area(s).            04M   \n",
              "\n",
              "                               VIOLATION DESCRIPTION CRITICAL FLAG  SCORE  \\\n",
              "0        Hot food item not held at or above 140Âº F.      Critical   30.0   \n",
              "1              Current letter grade card not posted.  Not Critical    NaN   \n",
              "2  Non-food contact surface improperly constructe...  Not Critical    2.0   \n",
              "3  Cold food item held above 41Âº F (smoked fish ...      Critical   46.0   \n",
              "4  Live roaches present in facility's food and/or...      Critical   18.0   \n",
              "\n",
              "  GRADE GRADE DATE RECORD DATE  \\\n",
              "0   NaN        NaN  08/28/2017   \n",
              "1   NaN        NaN  08/28/2017   \n",
              "2   NaN        NaN  08/28/2017   \n",
              "3   NaN        NaN  08/28/2017   \n",
              "4   NaN        NaN  08/28/2017   \n",
              "\n",
              "                                     INSPECTION TYPE  \n",
              "0              Cycle Inspection / Initial Inspection  \n",
              "1  Administrative Miscellaneous / Initial Inspection  \n",
              "2      Pre-permit (Operational) / Initial Inspection  \n",
              "3      Pre-permit (Operational) / Initial Inspection  \n",
              "4              Cycle Inspection / Initial Inspection  "
            ]
          },
          "metadata": {
            "tags": []
          },
          "execution_count": 4
        }
      ]
    },
    {
      "metadata": {
        "id": "c675D7gP3K9d",
        "colab_type": "text"
      },
      "cell_type": "markdown",
      "source": [
        "## CAMIS & DBA\n",
        "\n",
        "CAMIS: Unique identifier for the entity (restaurant): N unique = 26505\n",
        "DBA: Name (doing business as) of the entity (restaurant). N unique = 20936\n"
      ]
    },
    {
      "metadata": {
        "id": "nMskvRVk3Ka_",
        "colab_type": "code",
        "outputId": "715dd072-1edc-49aa-c880-a1ed5bf488e6",
        "colab": {
          "base_uri": "https://localhost:8080/",
          "height": 35
        }
      },
      "cell_type": "code",
      "source": [
        "data['CAMIS'].nunique(), data['DBA'].nunique()"
      ],
      "execution_count": 5,
      "outputs": [
        {
          "output_type": "execute_result",
          "data": {
            "text/plain": [
              "(26505, 20936)"
            ]
          },
          "metadata": {
            "tags": []
          },
          "execution_count": 5
        }
      ]
    },
    {
      "metadata": {
        "id": "Ekbdmko4zzhN",
        "colab_type": "code",
        "outputId": "fc1efaa2-3183-4960-e6f4-a5c9de1feec4",
        "colab": {
          "base_uri": "https://localhost:8080/",
          "height": 421
        }
      },
      "cell_type": "code",
      "source": [
        "print(data['CAMIS'].value_counts()[:10])\n",
        "print(data['DBA'].value_counts()[:10])"
      ],
      "execution_count": 6,
      "outputs": [
        {
          "output_type": "stream",
          "text": [
            "41683816    97\n",
            "50001880    95\n",
            "40965177    94\n",
            "50033122    91\n",
            "41510846    90\n",
            "41459659    90\n",
            "41289382    88\n",
            "41630632    86\n",
            "41528486    79\n",
            "40392685    78\n",
            "Name: CAMIS, dtype: int64\n",
            "DUNKIN' DONUTS                    4296\n",
            "SUBWAY                            3793\n",
            "MCDONALD'S                        2801\n",
            "STARBUCKS                         2151\n",
            "DUNKIN' DONUTS, BASKIN ROBBINS    1474\n",
            "DOMINO'S                          1422\n",
            "CROWN FRIED CHICKEN               1189\n",
            "KENNEDY FRIED CHICKEN             1139\n",
            "BURGER KING                       1080\n",
            "CHIPOTLE MEXICAN GRILL             969\n",
            "Name: DBA, dtype: int64\n"
          ],
          "name": "stdout"
        }
      ]
    },
    {
      "metadata": {
        "id": "MN3gbR2O_k6C",
        "colab_type": "code",
        "outputId": "15aaec22-5174-46f9-9ed4-d94a1bd41608",
        "colab": {
          "base_uri": "https://localhost:8080/",
          "height": 332
        }
      },
      "cell_type": "code",
      "source": [
        "tmp = data['BORO'].value_counts(dropna = False)\n",
        "\n",
        "# _, ax = plt.subplots(figsize=(6, 3), subplot_kw=dict(aspect='equal'))\n",
        "\n",
        "# wedges, texts = ax.pie(tmp.values, wedgeprops=dict(width=0.5), startangle=-40, autopct='%1.1f%%')\n",
        "\n",
        "# bbox_props = dict(boxstyle='square,pad=0.3', fc='w', ec='k', lw=0.72)\n",
        "# kw = dict(xycoords='data', textcoords='data', arrowprops=dict(arrowstyle='-'),\n",
        "#           bbox=bbox_props, zorder=0, va='center')\n",
        "\n",
        "# for i, p in enumerate(wedges):\n",
        "#     ang = (p.theta2 - p.theta1)/2. + p.theta1\n",
        "#     y = np.sin(np.deg2rad(ang))\n",
        "#     x = np.cos(np.deg2rad(ang))\n",
        "#     horizontalalignment = {-1: 'right', 1: 'left'}[int(np.sign(x))]\n",
        "#     connectionstyle = 'angle,angleA=0,angleB={}'.format(ang)\n",
        "#     kw['arrowprops'].update({'connectionstyle': connectionstyle})\n",
        "#     ax.annotate(tmp.index[i], xy=(x, y), xytext=(1.35*np.sign(x), 1.4*y),\n",
        "#                  horizontalalignment=horizontalalignment, **kw)\n",
        "\n",
        "\n",
        "# _, ax = plt.subplots()\n",
        "plt.pie(tmp.values, labels=tmp.index, autopct='%1.1f%%')\n",
        "plt.axis('equal');"
      ],
      "execution_count": 7,
      "outputs": [
        {
          "output_type": "display_data",
          "data": {
            "image/png": "[encoded data removed]",
            "text/plain": [
              "<Figure size 576x396 with 1 Axes>"
            ]
          },
          "metadata": {
            "tags": []
          }
        }
      ]
    },
    {
      "metadata": {
        "id": "kep2ordnF00f",
        "colab_type": "text"
      },
      "cell_type": "markdown",
      "source": [
        "## CUISINE DESCRIPTION"
      ]
    },
    {
      "metadata": {
        "id": "B67jlVwsFklD",
        "colab_type": "code",
        "outputId": "1a182114-df8e-4479-ed1e-d82cd5d3767b",
        "colab": {
          "base_uri": "https://localhost:8080/",
          "height": 219
        }
      },
      "cell_type": "code",
      "source": [
        "data['CUISINE DESCRIPTION'].value_counts()[:10]"
      ],
      "execution_count": 9,
      "outputs": [
        {
          "output_type": "execute_result",
          "data": {
            "text/plain": [
              "American                                                            90968\n",
              "Chinese                                                             42321\n",
              "Latin (Cuban, Dominican, Puerto Rican, South & Central American)    19135\n",
              "Pizza                                                               18754\n",
              "Italian                                                             17732\n",
              "CafÃ©/Coffee/Tea                                                    15568\n",
              "Mexican                                                             15217\n",
              "Japanese                                                            14491\n",
              "Caribbean                                                           13021\n",
              "Bakery                                                              11948\n",
              "Name: CUISINE DESCRIPTION, dtype: int64"
            ]
          },
          "metadata": {
            "tags": []
          },
          "execution_count": 9
        }
      ]
    },
    {
      "metadata": {
        "id": "hchq0EXSF0eF",
        "colab_type": "text"
      },
      "cell_type": "markdown",
      "source": [
        "## Date"
      ]
    },
    {
      "metadata": {
        "id": "_kPZvrMAG4ZI",
        "colab_type": "code",
        "colab": {}
      },
      "cell_type": "code",
      "source": [
        "data['INSPECTION DATE'] = pd.to_datetime(data['INSPECTION DATE'], format='%m/%d/%Y')\n",
        "data['RECORD DATE'] = pd.to_datetime(data['RECORD DATE'], format='%m/%d/%Y')\n",
        "data['DELTA DATE'] = (data['RECORD DATE'] - data['INSPECTION DATE']).dt.days"
      ],
      "execution_count": 0,
      "outputs": []
    },
    {
      "metadata": {
        "id": "tUru5DxqLEpV",
        "colab_type": "code",
        "outputId": "4bc5318f-bcfc-47f2-ee4e-a2239bf89769",
        "colab": {
          "base_uri": "https://localhost:8080/",
          "height": 347
        }
      },
      "cell_type": "code",
      "source": [
        "data['DELTA DATE'][data['DELTA DATE'] < 10000].plot.hist(100);"
      ],
      "execution_count": 11,
      "outputs": [
        {
          "output_type": "display_data",
          "data": {
            "image/png": "[encoded data removed]",
            "text/plain": [
              "<Figure size 576x396 with 1 Axes>"
            ]
          },
          "metadata": {
            "tags": []
          }
        }
      ]
    },
    {
      "metadata": {
        "id": "Us4zJyCQSxBK",
        "colab_type": "text"
      },
      "cell_type": "markdown",
      "source": [
        "## Action & Grade & Critical Flag"
      ]
    },
    {
      "metadata": {
        "id": "o_KvSAkbCldH",
        "colab_type": "code",
        "outputId": "4925c735-7632-45c0-9f46-dda784a09d79",
        "colab": {
          "base_uri": "https://localhost:8080/",
          "height": 146
        }
      },
      "cell_type": "code",
      "source": [
        "data['ACTION'].value_counts(dropna = False)"
      ],
      "execution_count": 12,
      "outputs": [
        {
          "output_type": "execute_result",
          "data": {
            "text/plain": [
              "Violations were cited in the following area(s).                                                                                        380632\n",
              "Establishment Closed by DOHMH.  Violations were cited in the following area(s) and those requiring immediate action were addressed.      9240\n",
              "No violations were recorded at the time of this inspection.                                                                              5373\n",
              "Establishment re-opened by DOHMH                                                                                                         2713\n",
              "NaN                                                                                                                                      1135\n",
              "Establishment re-closed by DOHMH                                                                                                          825\n",
              "Name: ACTION, dtype: int64"
            ]
          },
          "metadata": {
            "tags": []
          },
          "execution_count": 12
        }
      ]
    },
    {
      "metadata": {
        "id": "95vxciyTUFkA",
        "colab_type": "code",
        "outputId": "9afc7311-c51e-4dc3-a8a2-27d0239a7ff4",
        "colab": {
          "base_uri": "https://localhost:8080/",
          "height": 90
        }
      },
      "cell_type": "code",
      "source": [
        "data['CRITICAL FLAG'].value_counts(dropna = False)"
      ],
      "execution_count": 13,
      "outputs": [
        {
          "output_type": "execute_result",
          "data": {
            "text/plain": [
              "Critical          220082\n",
              "Not Critical      172857\n",
              "Not Applicable      6979\n",
              "Name: CRITICAL FLAG, dtype: int64"
            ]
          },
          "metadata": {
            "tags": []
          },
          "execution_count": 13
        }
      ]
    },
    {
      "metadata": {
        "id": "JLdMU37NG334",
        "colab_type": "code",
        "outputId": "8913f549-2f32-467b-d389-0b931b8bf60f",
        "colab": {
          "base_uri": "https://localhost:8080/",
          "height": 164
        }
      },
      "cell_type": "code",
      "source": [
        "data['GRADE'].value_counts(dropna = False)"
      ],
      "execution_count": 14,
      "outputs": [
        {
          "output_type": "execute_result",
          "data": {
            "text/plain": [
              "NaN               204505\n",
              "A                 154194\n",
              "B                  28166\n",
              "C                   6992\n",
              "Not Yet Graded      2598\n",
              "Z                   2104\n",
              "P                   1359\n",
              "Name: GRADE, dtype: int64"
            ]
          },
          "metadata": {
            "tags": []
          },
          "execution_count": 14
        }
      ]
    },
    {
      "metadata": {
        "id": "TUFYX19RJV4g",
        "colab_type": "code",
        "outputId": "437d4408-ad4a-41c4-eef3-f26c0997dd28",
        "colab": {
          "base_uri": "https://localhost:8080/",
          "height": 238
        }
      },
      "cell_type": "code",
      "source": [
        "tmp = pd.crosstab(data['BORO'], data['CRITICAL FLAG']).loc[:, ['Not Applicable', 'Not Critical', 'Critical']]\n",
        "tmp = tmp[tmp.index != 'Missing']\n",
        "# tmp.[:,['Critical']]\n",
        "# print(tmp)\n",
        "tmp = pd.concat([tmp, tmp.apply(lambda x: np.round(x / tmp.sum(1) * 100, 1), 0)], 1)\n",
        "tmp"
      ],
      "execution_count": 15,
      "outputs": [
        {
          "output_type": "execute_result",
          "data": {
            "text/html": [
              "<div>\n",
              "<style scoped>\n",
              "    .dataframe tbody tr th:only-of-type {\n",
              "        vertical-align: middle;\n",
              "    }\n",
              "\n",
              "    .dataframe tbody tr th {\n",
              "        vertical-align: top;\n",
              "    }\n",
              "\n",
              "    .dataframe thead th {\n",
              "        text-align: right;\n",
              "    }\n",
              "</style>\n",
              "<table border=\"1\" class=\"dataframe\">\n",
              "  <thead>\n",
              "    <tr style=\"text-align: right;\">\n",
              "      <th>CRITICAL FLAG</th>\n",
              "      <th>Not Applicable</th>\n",
              "      <th>Not Critical</th>\n",
              "      <th>Critical</th>\n",
              "      <th>Not Applicable</th>\n",
              "      <th>Not Critical</th>\n",
              "      <th>Critical</th>\n",
              "    </tr>\n",
              "    <tr>\n",
              "      <th>BORO</th>\n",
              "      <th></th>\n",
              "      <th></th>\n",
              "      <th></th>\n",
              "      <th></th>\n",
              "      <th></th>\n",
              "      <th></th>\n",
              "    </tr>\n",
              "  </thead>\n",
              "  <tbody>\n",
              "    <tr>\n",
              "      <th>BRONX</th>\n",
              "      <td>575</td>\n",
              "      <td>15293</td>\n",
              "      <td>19027</td>\n",
              "      <td>1.6</td>\n",
              "      <td>43.8</td>\n",
              "      <td>54.5</td>\n",
              "    </tr>\n",
              "    <tr>\n",
              "      <th>BROOKLYN</th>\n",
              "      <td>1968</td>\n",
              "      <td>43600</td>\n",
              "      <td>54030</td>\n",
              "      <td>2.0</td>\n",
              "      <td>43.8</td>\n",
              "      <td>54.2</td>\n",
              "    </tr>\n",
              "    <tr>\n",
              "      <th>MANHATTAN</th>\n",
              "      <td>2672</td>\n",
              "      <td>68406</td>\n",
              "      <td>88496</td>\n",
              "      <td>1.7</td>\n",
              "      <td>42.9</td>\n",
              "      <td>55.5</td>\n",
              "    </tr>\n",
              "    <tr>\n",
              "      <th>QUEENS</th>\n",
              "      <td>1560</td>\n",
              "      <td>39910</td>\n",
              "      <td>50945</td>\n",
              "      <td>1.7</td>\n",
              "      <td>43.2</td>\n",
              "      <td>55.1</td>\n",
              "    </tr>\n",
              "    <tr>\n",
              "      <th>STATEN ISLAND</th>\n",
              "      <td>195</td>\n",
              "      <td>5648</td>\n",
              "      <td>7584</td>\n",
              "      <td>1.5</td>\n",
              "      <td>42.1</td>\n",
              "      <td>56.5</td>\n",
              "    </tr>\n",
              "  </tbody>\n",
              "</table>\n",
              "</div>"
            ],
            "text/plain": [
              "CRITICAL FLAG  Not Applicable  Not Critical  Critical  Not Applicable  \\\n",
              "BORO                                                                    \n",
              "BRONX                     575         15293     19027             1.6   \n",
              "BROOKLYN                 1968         43600     54030             2.0   \n",
              "MANHATTAN                2672         68406     88496             1.7   \n",
              "QUEENS                   1560         39910     50945             1.7   \n",
              "STATEN ISLAND             195          5648      7584             1.5   \n",
              "\n",
              "CRITICAL FLAG  Not Critical  Critical  \n",
              "BORO                                   \n",
              "BRONX                  43.8      54.5  \n",
              "BROOKLYN               43.8      54.2  \n",
              "MANHATTAN              42.9      55.5  \n",
              "QUEENS                 43.2      55.1  \n",
              "STATEN ISLAND          42.1      56.5  "
            ]
          },
          "metadata": {
            "tags": []
          },
          "execution_count": 15
        }
      ]
    },
    {
      "metadata": {
        "id": "ec2B3tDSaReE",
        "colab_type": "code",
        "colab": {}
      },
      "cell_type": "code",
      "source": [
        "# tmp = pd.crosstab(data['CUISINE DESCRIPTION'], data['CRITICAL FLAG']).loc[:, ['Not Applicable', 'Not Critical', 'Critical']]\n",
        "# tmp = tmp[tmp.index != 'Missing']\n",
        "# print(tmp)\n",
        "# tmp.apply(lambda x: np.round(x / tmp.sum(1) * 100, 1), 0)"
      ],
      "execution_count": 0,
      "outputs": []
    },
    {
      "metadata": {
        "id": "5w-ftbbMaTcs",
        "colab_type": "code",
        "outputId": "cd8e6aa0-159a-4dd3-d2d6-5429a5276e55",
        "colab": {
          "base_uri": "https://localhost:8080/",
          "height": 708
        }
      },
      "cell_type": "code",
      "source": [
        "tmp = data[data['CUISINE DESCRIPTION'].isin(data['CUISINE DESCRIPTION'].value_counts()[:20].index)]\n",
        "tmp = pd.crosstab(tmp['CUISINE DESCRIPTION'], tmp['CRITICAL FLAG']).loc[:, ['Not Applicable', 'Not Critical', 'Critical']]\n",
        "tmp = pd.concat([tmp, tmp.apply(lambda x: np.round(x / tmp.sum(1) * 100, 1), 0)], 1)\n",
        "tmp"
      ],
      "execution_count": 17,
      "outputs": [
        {
          "output_type": "execute_result",
          "data": {
            "text/html": [
              "<div>\n",
              "<style scoped>\n",
              "    .dataframe tbody tr th:only-of-type {\n",
              "        vertical-align: middle;\n",
              "    }\n",
              "\n",
              "    .dataframe tbody tr th {\n",
              "        vertical-align: top;\n",
              "    }\n",
              "\n",
              "    .dataframe thead th {\n",
              "        text-align: right;\n",
              "    }\n",
              "</style>\n",
              "<table border=\"1\" class=\"dataframe\">\n",
              "  <thead>\n",
              "    <tr style=\"text-align: right;\">\n",
              "      <th>CRITICAL FLAG</th>\n",
              "      <th>Not Applicable</th>\n",
              "      <th>Not Critical</th>\n",
              "      <th>Critical</th>\n",
              "      <th>Not Applicable</th>\n",
              "      <th>Not Critical</th>\n",
              "      <th>Critical</th>\n",
              "    </tr>\n",
              "    <tr>\n",
              "      <th>CUISINE DESCRIPTION</th>\n",
              "      <th></th>\n",
              "      <th></th>\n",
              "      <th></th>\n",
              "      <th></th>\n",
              "      <th></th>\n",
              "      <th></th>\n",
              "    </tr>\n",
              "  </thead>\n",
              "  <tbody>\n",
              "    <tr>\n",
              "      <th>American</th>\n",
              "      <td>1461</td>\n",
              "      <td>40481</td>\n",
              "      <td>49026</td>\n",
              "      <td>1.6</td>\n",
              "      <td>44.5</td>\n",
              "      <td>53.9</td>\n",
              "    </tr>\n",
              "    <tr>\n",
              "      <th>Asian</th>\n",
              "      <td>100</td>\n",
              "      <td>2469</td>\n",
              "      <td>3686</td>\n",
              "      <td>1.6</td>\n",
              "      <td>39.5</td>\n",
              "      <td>58.9</td>\n",
              "    </tr>\n",
              "    <tr>\n",
              "      <th>Bakery</th>\n",
              "      <td>255</td>\n",
              "      <td>4923</td>\n",
              "      <td>6770</td>\n",
              "      <td>2.1</td>\n",
              "      <td>41.2</td>\n",
              "      <td>56.7</td>\n",
              "    </tr>\n",
              "    <tr>\n",
              "      <th>CafÃ©/Coffee/Tea</th>\n",
              "      <td>313</td>\n",
              "      <td>7470</td>\n",
              "      <td>7785</td>\n",
              "      <td>2.0</td>\n",
              "      <td>48.0</td>\n",
              "      <td>50.0</td>\n",
              "    </tr>\n",
              "    <tr>\n",
              "      <th>Caribbean</th>\n",
              "      <td>195</td>\n",
              "      <td>5782</td>\n",
              "      <td>7044</td>\n",
              "      <td>1.5</td>\n",
              "      <td>44.4</td>\n",
              "      <td>54.1</td>\n",
              "    </tr>\n",
              "    <tr>\n",
              "      <th>Chicken</th>\n",
              "      <td>91</td>\n",
              "      <td>2862</td>\n",
              "      <td>3129</td>\n",
              "      <td>1.5</td>\n",
              "      <td>47.1</td>\n",
              "      <td>51.4</td>\n",
              "    </tr>\n",
              "    <tr>\n",
              "      <th>Chinese</th>\n",
              "      <td>536</td>\n",
              "      <td>16918</td>\n",
              "      <td>24867</td>\n",
              "      <td>1.3</td>\n",
              "      <td>40.0</td>\n",
              "      <td>58.8</td>\n",
              "    </tr>\n",
              "    <tr>\n",
              "      <th>Delicatessen</th>\n",
              "      <td>81</td>\n",
              "      <td>2498</td>\n",
              "      <td>3624</td>\n",
              "      <td>1.3</td>\n",
              "      <td>40.3</td>\n",
              "      <td>58.4</td>\n",
              "    </tr>\n",
              "    <tr>\n",
              "      <th>Donuts</th>\n",
              "      <td>63</td>\n",
              "      <td>2790</td>\n",
              "      <td>2761</td>\n",
              "      <td>1.1</td>\n",
              "      <td>49.7</td>\n",
              "      <td>49.2</td>\n",
              "    </tr>\n",
              "    <tr>\n",
              "      <th>Hamburgers</th>\n",
              "      <td>61</td>\n",
              "      <td>2621</td>\n",
              "      <td>2742</td>\n",
              "      <td>1.1</td>\n",
              "      <td>48.3</td>\n",
              "      <td>50.6</td>\n",
              "    </tr>\n",
              "    <tr>\n",
              "      <th>Indian</th>\n",
              "      <td>87</td>\n",
              "      <td>2464</td>\n",
              "      <td>3633</td>\n",
              "      <td>1.4</td>\n",
              "      <td>39.8</td>\n",
              "      <td>58.7</td>\n",
              "    </tr>\n",
              "    <tr>\n",
              "      <th>Italian</th>\n",
              "      <td>209</td>\n",
              "      <td>7700</td>\n",
              "      <td>9823</td>\n",
              "      <td>1.2</td>\n",
              "      <td>43.4</td>\n",
              "      <td>55.4</td>\n",
              "    </tr>\n",
              "    <tr>\n",
              "      <th>Japanese</th>\n",
              "      <td>160</td>\n",
              "      <td>5957</td>\n",
              "      <td>8374</td>\n",
              "      <td>1.1</td>\n",
              "      <td>41.1</td>\n",
              "      <td>57.8</td>\n",
              "    </tr>\n",
              "    <tr>\n",
              "      <th>Jewish/Kosher</th>\n",
              "      <td>81</td>\n",
              "      <td>2426</td>\n",
              "      <td>3024</td>\n",
              "      <td>1.5</td>\n",
              "      <td>43.9</td>\n",
              "      <td>54.7</td>\n",
              "    </tr>\n",
              "    <tr>\n",
              "      <th>Latin (Cuban, Dominican, Puerto Rican, South &amp; Central American)</th>\n",
              "      <td>282</td>\n",
              "      <td>7987</td>\n",
              "      <td>10866</td>\n",
              "      <td>1.5</td>\n",
              "      <td>41.7</td>\n",
              "      <td>56.8</td>\n",
              "    </tr>\n",
              "    <tr>\n",
              "      <th>Mexican</th>\n",
              "      <td>211</td>\n",
              "      <td>6517</td>\n",
              "      <td>8489</td>\n",
              "      <td>1.4</td>\n",
              "      <td>42.8</td>\n",
              "      <td>55.8</td>\n",
              "    </tr>\n",
              "    <tr>\n",
              "      <th>Pizza</th>\n",
              "      <td>230</td>\n",
              "      <td>8248</td>\n",
              "      <td>10276</td>\n",
              "      <td>1.2</td>\n",
              "      <td>44.0</td>\n",
              "      <td>54.8</td>\n",
              "    </tr>\n",
              "    <tr>\n",
              "      <th>Pizza/Italian</th>\n",
              "      <td>114</td>\n",
              "      <td>3537</td>\n",
              "      <td>5077</td>\n",
              "      <td>1.3</td>\n",
              "      <td>40.5</td>\n",
              "      <td>58.2</td>\n",
              "    </tr>\n",
              "    <tr>\n",
              "      <th>Spanish</th>\n",
              "      <td>164</td>\n",
              "      <td>4931</td>\n",
              "      <td>6600</td>\n",
              "      <td>1.4</td>\n",
              "      <td>42.2</td>\n",
              "      <td>56.4</td>\n",
              "    </tr>\n",
              "    <tr>\n",
              "      <th>Thai</th>\n",
              "      <td>64</td>\n",
              "      <td>2192</td>\n",
              "      <td>3269</td>\n",
              "      <td>1.2</td>\n",
              "      <td>39.7</td>\n",
              "      <td>59.2</td>\n",
              "    </tr>\n",
              "  </tbody>\n",
              "</table>\n",
              "</div>"
            ],
            "text/plain": [
              "CRITICAL FLAG                                       Not Applicable  \\\n",
              "CUISINE DESCRIPTION                                                  \n",
              "American                                                      1461   \n",
              "Asian                                                          100   \n",
              "Bakery                                                         255   \n",
              "CafÃ©/Coffee/Tea                                               313   \n",
              "Caribbean                                                      195   \n",
              "Chicken                                                         91   \n",
              "Chinese                                                        536   \n",
              "Delicatessen                                                    81   \n",
              "Donuts                                                          63   \n",
              "Hamburgers                                                      61   \n",
              "Indian                                                          87   \n",
              "Italian                                                        209   \n",
              "Japanese                                                       160   \n",
              "Jewish/Kosher                                                   81   \n",
              "Latin (Cuban, Dominican, Puerto Rican, South & ...             282   \n",
              "Mexican                                                        211   \n",
              "Pizza                                                          230   \n",
              "Pizza/Italian                                                  114   \n",
              "Spanish                                                        164   \n",
              "Thai                                                            64   \n",
              "\n",
              "CRITICAL FLAG                                       Not Critical  Critical  \\\n",
              "CUISINE DESCRIPTION                                                          \n",
              "American                                                   40481     49026   \n",
              "Asian                                                       2469      3686   \n",
              "Bakery                                                      4923      6770   \n",
              "CafÃ©/Coffee/Tea                                            7470      7785   \n",
              "Caribbean                                                   5782      7044   \n",
              "Chicken                                                     2862      3129   \n",
              "Chinese                                                    16918     24867   \n",
              "Delicatessen                                                2498      3624   \n",
              "Donuts                                                      2790      2761   \n",
              "Hamburgers                                                  2621      2742   \n",
              "Indian                                                      2464      3633   \n",
              "Italian                                                     7700      9823   \n",
              "Japanese                                                    5957      8374   \n",
              "Jewish/Kosher                                               2426      3024   \n",
              "Latin (Cuban, Dominican, Puerto Rican, South & ...          7987     10866   \n",
              "Mexican                                                     6517      8489   \n",
              "Pizza                                                       8248     10276   \n",
              "Pizza/Italian                                               3537      5077   \n",
              "Spanish                                                     4931      6600   \n",
              "Thai                                                        2192      3269   \n",
              "\n",
              "CRITICAL FLAG                                       Not Applicable  \\\n",
              "CUISINE DESCRIPTION                                                  \n",
              "American                                                       1.6   \n",
              "Asian                                                          1.6   \n",
              "Bakery                                                         2.1   \n",
              "CafÃ©/Coffee/Tea                                               2.0   \n",
              "Caribbean                                                      1.5   \n",
              "Chicken                                                        1.5   \n",
              "Chinese                                                        1.3   \n",
              "Delicatessen                                                   1.3   \n",
              "Donuts                                                         1.1   \n",
              "Hamburgers                                                     1.1   \n",
              "Indian                                                         1.4   \n",
              "Italian                                                        1.2   \n",
              "Japanese                                                       1.1   \n",
              "Jewish/Kosher                                                  1.5   \n",
              "Latin (Cuban, Dominican, Puerto Rican, South & ...             1.5   \n",
              "Mexican                                                        1.4   \n",
              "Pizza                                                          1.2   \n",
              "Pizza/Italian                                                  1.3   \n",
              "Spanish                                                        1.4   \n",
              "Thai                                                           1.2   \n",
              "\n",
              "CRITICAL FLAG                                       Not Critical  Critical  \n",
              "CUISINE DESCRIPTION                                                         \n",
              "American                                                    44.5      53.9  \n",
              "Asian                                                       39.5      58.9  \n",
              "Bakery                                                      41.2      56.7  \n",
              "CafÃ©/Coffee/Tea                                            48.0      50.0  \n",
              "Caribbean                                                   44.4      54.1  \n",
              "Chicken                                                     47.1      51.4  \n",
              "Chinese                                                     40.0      58.8  \n",
              "Delicatessen                                                40.3      58.4  \n",
              "Donuts                                                      49.7      49.2  \n",
              "Hamburgers                                                  48.3      50.6  \n",
              "Indian                                                      39.8      58.7  \n",
              "Italian                                                     43.4      55.4  \n",
              "Japanese                                                    41.1      57.8  \n",
              "Jewish/Kosher                                               43.9      54.7  \n",
              "Latin (Cuban, Dominican, Puerto Rican, South & ...          41.7      56.8  \n",
              "Mexican                                                     42.8      55.8  \n",
              "Pizza                                                       44.0      54.8  \n",
              "Pizza/Italian                                               40.5      58.2  \n",
              "Spanish                                                     42.2      56.4  \n",
              "Thai                                                        39.7      59.2  "
            ]
          },
          "metadata": {
            "tags": []
          },
          "execution_count": 17
        }
      ]
    },
    {
      "metadata": {
        "id": "eVmr056Hay81",
        "colab_type": "code",
        "outputId": "5ce71e39-0531-4ea5-c36e-e25cdf825f98",
        "colab": {
          "base_uri": "https://localhost:8080/",
          "height": 634
        }
      },
      "cell_type": "code",
      "source": [
        "\n",
        "plt.bar(range(len(tmp.index)), tmp.iloc[:,-1])\n",
        "plt.xticks(range(len(tmp.index)), tmp.index, rotation=90);"
      ],
      "execution_count": 0,
      "outputs": [
        {
          "output_type": "display_data",
          "data": {
            "image/png": "[encoded data removed]",
            "text/plain": [
              "<Figure size 576x396 with 1 Axes>"
            ]
          },
          "metadata": {
            "tags": []
          }
        }
      ]
    }
  ]
}