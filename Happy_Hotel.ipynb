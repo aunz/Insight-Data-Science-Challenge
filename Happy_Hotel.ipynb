{
  "nbformat": 4,
  "nbformat_minor": 0,
  "metadata": {
    "colab": {
      "name": "Happy Hotel",
      "version": "0.3.2",
      "provenance": [],
      "collapsed_sections": [],
      "include_colab_link": true
    },
    "kernelspec": {
      "name": "python3",
      "display_name": "Python 3"
    }
  },
  "cells": [
    {
      "cell_type": "markdown",
      "metadata": {
        "id": "view-in-github",
        "colab_type": "text"
      },
      "source": [
        "<a href=\"https://colab.research.google.com/github/aunz/Insight-Data-Science-Challenge/blob/master/Happy_Hotel.ipynb\" target=\"_parent\"><img src=\"https://colab.research.google.com/assets/colab-badge.svg\" alt=\"Open In Colab\"/></a>"
      ]
    },
    {
      "metadata": {
        "id": "ihzQ2tODbo42",
        "colab_type": "code",
        "colab": {}
      },
      "cell_type": "code",
      "source": [
        "import numpy as np\n",
        "import pandas as pd\n",
        "import matplotlib.pyplot as plt\n",
        "import seaborn as sns"
      ],
      "execution_count": 0,
      "outputs": []
    },
    {
      "metadata": {
        "id": "g8gKYENUcir_",
        "colab_type": "code",
        "colab": {
          "base_uri": "https://localhost:8080/",
          "height": 72
        },
        "outputId": "b2ba4647-543a-4cfc-9e1b-f40e4b51e310"
      },
      "cell_type": "code",
      "source": [
        "!curl -o data.zip https://raw.githubusercontent.com/aunz/Insight-Data-Science-Challenge/master/happy_hotel.zip\n",
        "!unzip -qq data.zip"
      ],
      "execution_count": 3,
      "outputs": [
        {
          "output_type": "stream",
          "text": [
            "  % Total    % Received % Xferd  Average Speed   Time    Time     Time  Current\n",
            "                                 Dload  Upload   Total   Spent    Left  Speed\n",
            "\r  0     0    0     0    0     0      0      0 --:--:-- --:--:-- --:--:--     0\r100 11.3M  100 11.3M    0     0  81.9M      0 --:--:-- --:--:-- --:--:-- 82.5M\n"
          ],
          "name": "stdout"
        }
      ]
    },
    {
      "metadata": {
        "id": "tfBqHYs1c1Aq",
        "colab_type": "code",
        "colab": {}
      },
      "cell_type": "code",
      "source": [
        "df1 = pd.read_csv('hotel_happy_reviews.csv')\n",
        "df2 = pd.read_csv('hotel_not_happy_reviews.csv')"
      ],
      "execution_count": 0,
      "outputs": []
    },
    {
      "metadata": {
        "id": "oWPvQrrVc9X-",
        "colab_type": "code",
        "colab": {
          "base_uri": "https://localhost:8080/",
          "height": 390
        },
        "outputId": "0dfe5281-70ec-4066-ff2a-bc3cb10ab167"
      },
      "cell_type": "code",
      "source": [
        "print(df1.info())\n",
        "df1.sample(5)"
      ],
      "execution_count": 15,
      "outputs": [
        {
          "output_type": "stream",
          "text": [
            "<class 'pandas.core.frame.DataFrame'>\n",
            "RangeIndex: 26521 entries, 0 to 26520\n",
            "Data columns (total 4 columns):\n",
            "User_ID        26521 non-null object\n",
            "Description    26521 non-null object\n",
            "Is_Response    26521 non-null object\n",
            "hotel_ID       26521 non-null int64\n",
            "dtypes: int64(1), object(3)\n",
            "memory usage: 828.9+ KB\n",
            "None\n"
          ],
          "name": "stdout"
        },
        {
          "output_type": "execute_result",
          "data": {
            "text/html": [
              "<div>\n",
              "<style scoped>\n",
              "    .dataframe tbody tr th:only-of-type {\n",
              "        vertical-align: middle;\n",
              "    }\n",
              "\n",
              "    .dataframe tbody tr th {\n",
              "        vertical-align: top;\n",
              "    }\n",
              "\n",
              "    .dataframe thead th {\n",
              "        text-align: right;\n",
              "    }\n",
              "</style>\n",
              "<table border=\"1\" class=\"dataframe\">\n",
              "  <thead>\n",
              "    <tr style=\"text-align: right;\">\n",
              "      <th></th>\n",
              "      <th>User_ID</th>\n",
              "      <th>Description</th>\n",
              "      <th>Is_Response</th>\n",
              "      <th>hotel_ID</th>\n",
              "    </tr>\n",
              "  </thead>\n",
              "  <tbody>\n",
              "    <tr>\n",
              "      <th>1717</th>\n",
              "      <td>id12861</td>\n",
              "      <td>We just returned from our -rd. visit to Royal ...</td>\n",
              "      <td>happy</td>\n",
              "      <td>1</td>\n",
              "    </tr>\n",
              "    <tr>\n",
              "      <th>3526</th>\n",
              "      <td>id15514</td>\n",
              "      <td>I have stayed now a few times at this location...</td>\n",
              "      <td>happy</td>\n",
              "      <td>8</td>\n",
              "    </tr>\n",
              "    <tr>\n",
              "      <th>9243</th>\n",
              "      <td>id23956</td>\n",
              "      <td>We stayed at this hotel for a week; the staff ...</td>\n",
              "      <td>happy</td>\n",
              "      <td>1</td>\n",
              "    </tr>\n",
              "    <tr>\n",
              "      <th>23881</th>\n",
              "      <td>id45392</td>\n",
              "      <td>The older hotel was nicely furnished. Our room...</td>\n",
              "      <td>happy</td>\n",
              "      <td>3</td>\n",
              "    </tr>\n",
              "    <tr>\n",
              "      <th>14008</th>\n",
              "      <td>id30874</td>\n",
              "      <td>This HI Exp was in line with all the other Hol...</td>\n",
              "      <td>happy</td>\n",
              "      <td>4</td>\n",
              "    </tr>\n",
              "  </tbody>\n",
              "</table>\n",
              "</div>"
            ],
            "text/plain": [
              "       User_ID                                        Description Is_Response  \\\n",
              "1717   id12861  We just returned from our -rd. visit to Royal ...       happy   \n",
              "3526   id15514  I have stayed now a few times at this location...       happy   \n",
              "9243   id23956  We stayed at this hotel for a week; the staff ...       happy   \n",
              "23881  id45392  The older hotel was nicely furnished. Our room...       happy   \n",
              "14008  id30874  This HI Exp was in line with all the other Hol...       happy   \n",
              "\n",
              "       hotel_ID  \n",
              "1717          1  \n",
              "3526          8  \n",
              "9243          1  \n",
              "23881         3  \n",
              "14008         4  "
            ]
          },
          "metadata": {
            "tags": []
          },
          "execution_count": 15
        }
      ]
    },
    {
      "metadata": {
        "id": "y96zCEyfdVQX",
        "colab_type": "code",
        "colab": {
          "base_uri": "https://localhost:8080/",
          "height": 390
        },
        "outputId": "7c9d077c-946d-4b34-f48e-0dcf9bda9be2"
      },
      "cell_type": "code",
      "source": [
        "print(df2.info())\n",
        "df2.sample(5)"
      ],
      "execution_count": 17,
      "outputs": [
        {
          "output_type": "stream",
          "text": [
            "<class 'pandas.core.frame.DataFrame'>\n",
            "RangeIndex: 12411 entries, 0 to 12410\n",
            "Data columns (total 4 columns):\n",
            "User_ID        12411 non-null object\n",
            "Description    12411 non-null object\n",
            "Is_Response    12411 non-null object\n",
            "hotel_ID       12411 non-null int64\n",
            "dtypes: int64(1), object(3)\n",
            "memory usage: 387.9+ KB\n",
            "None\n"
          ],
          "name": "stdout"
        },
        {
          "output_type": "execute_result",
          "data": {
            "text/html": [
              "<div>\n",
              "<style scoped>\n",
              "    .dataframe tbody tr th:only-of-type {\n",
              "        vertical-align: middle;\n",
              "    }\n",
              "\n",
              "    .dataframe tbody tr th {\n",
              "        vertical-align: top;\n",
              "    }\n",
              "\n",
              "    .dataframe thead th {\n",
              "        text-align: right;\n",
              "    }\n",
              "</style>\n",
              "<table border=\"1\" class=\"dataframe\">\n",
              "  <thead>\n",
              "    <tr style=\"text-align: right;\">\n",
              "      <th></th>\n",
              "      <th>User_ID</th>\n",
              "      <th>Description</th>\n",
              "      <th>Is_Response</th>\n",
              "      <th>hotel_ID</th>\n",
              "    </tr>\n",
              "  </thead>\n",
              "  <tbody>\n",
              "    <tr>\n",
              "      <th>3616</th>\n",
              "      <td>id21568</td>\n",
              "      <td>The property was clean and the desk and bell s...</td>\n",
              "      <td>not happy</td>\n",
              "      <td>5</td>\n",
              "    </tr>\n",
              "    <tr>\n",
              "      <th>5462</th>\n",
              "      <td>id27377</td>\n",
              "      <td>I stayed here for one night on January --th, -...</td>\n",
              "      <td>not happy</td>\n",
              "      <td>10</td>\n",
              "    </tr>\n",
              "    <tr>\n",
              "      <th>4324</th>\n",
              "      <td>id23745</td>\n",
              "      <td>We were not very happy with this hotel and wou...</td>\n",
              "      <td>not happy</td>\n",
              "      <td>4</td>\n",
              "    </tr>\n",
              "    <tr>\n",
              "      <th>3075</th>\n",
              "      <td>id19829</td>\n",
              "      <td>We used the park and fly pkg. for our trip to ...</td>\n",
              "      <td>not happy</td>\n",
              "      <td>3</td>\n",
              "    </tr>\n",
              "    <tr>\n",
              "      <th>2128</th>\n",
              "      <td>id16891</td>\n",
              "      <td>We stayed at this hotel for one night during t...</td>\n",
              "      <td>not happy</td>\n",
              "      <td>4</td>\n",
              "    </tr>\n",
              "  </tbody>\n",
              "</table>\n",
              "</div>"
            ],
            "text/plain": [
              "      User_ID                                        Description Is_Response  \\\n",
              "3616  id21568  The property was clean and the desk and bell s...   not happy   \n",
              "5462  id27377  I stayed here for one night on January --th, -...   not happy   \n",
              "4324  id23745  We were not very happy with this hotel and wou...   not happy   \n",
              "3075  id19829  We used the park and fly pkg. for our trip to ...   not happy   \n",
              "2128  id16891  We stayed at this hotel for one night during t...   not happy   \n",
              "\n",
              "      hotel_ID  \n",
              "3616         5  \n",
              "5462        10  \n",
              "4324         4  \n",
              "3075         3  \n",
              "2128         4  "
            ]
          },
          "metadata": {
            "tags": []
          },
          "execution_count": 17
        }
      ]
    },
    {
      "metadata": {
        "id": "abPUCSiDeTnx",
        "colab_type": "code",
        "colab": {
          "base_uri": "https://localhost:8080/",
          "height": 35
        },
        "outputId": "f503707e-f2c7-4dde-8392-98e763f53742"
      },
      "cell_type": "code",
      "source": [
        "# number of unique user\n",
        "len(set(df1.User_ID.unique().tolist() + df2.User_ID.unique().tolist()))"
      ],
      "execution_count": 30,
      "outputs": [
        {
          "output_type": "execute_result",
          "data": {
            "text/plain": [
              "38932"
            ]
          },
          "metadata": {
            "tags": []
          },
          "execution_count": 30
        }
      ]
    },
    {
      "metadata": {
        "id": "L6QSg38GfFD5",
        "colab_type": "code",
        "colab": {}
      },
      "cell_type": "code",
      "source": [
        "# change the Is_response to 1: happy, 0: unhappy\n",
        "df1.Is_Response = 1\n",
        "df2.Is_Response = 0\n",
        "\n",
        "# drop user_id as it's not important\n",
        "df1 = df1.drop('User_ID', 1)\n",
        "df2 = df2.drop('User_ID', 1)"
      ],
      "execution_count": 0,
      "outputs": []
    },
    {
      "metadata": {
        "id": "vR9gQhK_gGsq",
        "colab_type": "code",
        "colab": {}
      },
      "cell_type": "code",
      "source": [
        "# strip white space\n",
        "df1.Description = df1.Description.str.strip()\n",
        "df2.Description = df2.Description.str.strip()"
      ],
      "execution_count": 0,
      "outputs": []
    },
    {
      "metadata": {
        "id": "77AmWoHffgJH",
        "colab_type": "code",
        "colab": {
          "base_uri": "https://localhost:8080/",
          "height": 678
        },
        "outputId": "df9643c2-40b0-41b0-eab7-611244949320"
      },
      "cell_type": "code",
      "source": [
        "# number of words\n",
        "tmp = df1.Description.str.split().apply(len)\n",
        "print(tmp.describe())\n",
        "\n",
        "\n",
        "tmp = df2.Description.str.split().apply(len)\n",
        "print(tmp.describe())\n",
        "\n",
        "tmp = df1.Description.str.len()\n",
        "print(tmp.describe())\n",
        "\n",
        "tmp = df2.Description.str.len()\n",
        "print(tmp.describe())"
      ],
      "execution_count": 73,
      "outputs": [
        {
          "output_type": "stream",
          "text": [
            "count    26521.000000\n",
            "mean       142.015912\n",
            "std        117.225847\n",
            "min          4.000000\n",
            "25%         66.000000\n",
            "50%        111.000000\n",
            "75%        180.000000\n",
            "max       1780.000000\n",
            "Name: Description, dtype: float64\n",
            "count    12411.000000\n",
            "mean       190.109661\n",
            "std        151.458119\n",
            "min          5.000000\n",
            "25%         92.000000\n",
            "50%        151.000000\n",
            "75%        239.500000\n",
            "max       2289.000000\n",
            "Name: Description, dtype: float64\n",
            "count    26521.000000\n",
            "mean       786.122997\n",
            "std        645.734294\n",
            "min         20.000000\n",
            "25%        368.000000\n",
            "50%        616.000000\n",
            "75%        991.000000\n",
            "max      10482.000000\n",
            "Name: Description, dtype: float64\n",
            "count    12411.000000\n",
            "mean      1042.553864\n",
            "std        833.261081\n",
            "min         30.000000\n",
            "25%        507.000000\n",
            "50%        827.000000\n",
            "75%       1308.000000\n",
            "max      14340.000000\n",
            "Name: Description, dtype: float64\n"
          ],
          "name": "stdout"
        }
      ]
    },
    {
      "metadata": {
        "id": "ZB6fR8x6iZwl",
        "colab_type": "code",
        "colab": {
          "base_uri": "https://localhost:8080/",
          "height": 347
        },
        "outputId": "aab25157-4808-4170-95d6-7d1c167e7b00"
      },
      "cell_type": "code",
      "source": [
        "ax = sns.kdeplot(df1.Description.str.split().apply(len), label='Happy')\n",
        "sns.kdeplot(df2.Description.str.split().apply(len), label='Unhappy');"
      ],
      "execution_count": 81,
      "outputs": [
        {
          "output_type": "display_data",
          "data": {
            "image/png": "[encoded data removed]",
            "text/plain": [
              "<Figure size 576x396 with 1 Axes>"
            ]
          },
          "metadata": {
            "tags": []
          }
        }
      ]
    },
    {
      "metadata": {
        "id": "ekGiNgdAhwjy",
        "colab_type": "code",
        "colab": {}
      },
      "cell_type": "code",
      "source": [
        ""
      ],
      "execution_count": 0,
      "outputs": []
    },
    {
      "metadata": {
        "id": "CPg_qtvRf8WO",
        "colab_type": "code",
        "colab": {
          "base_uri": "https://localhost:8080/",
          "height": 35
        },
        "outputId": "7129c45a-585b-4c2d-fd5f-f92c84f8c26c"
      },
      "cell_type": "code",
      "source": [
        "tmp = 'adfasdf'\n",
        "tmp.strip()"
      ],
      "execution_count": 44,
      "outputs": [
        {
          "output_type": "execute_result",
          "data": {
            "text/plain": [
              "'adfasdf'"
            ]
          },
          "metadata": {
            "tags": []
          },
          "execution_count": 44
        }
      ]
    }
  ]
}